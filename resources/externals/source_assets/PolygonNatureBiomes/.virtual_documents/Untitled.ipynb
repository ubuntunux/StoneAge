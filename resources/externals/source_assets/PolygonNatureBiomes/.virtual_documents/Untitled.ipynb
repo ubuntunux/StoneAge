import os

def rename_tga_meta_to_png_meta(source_folder):
    for root, _, files in os.walk(source_folder):
        for file in files:
            if file.lower().endswith('.tga.meta'):
                old_path = os.path.join(root, file)
                new_filename = file.replace('.tga.meta', '.png.meta')
                new_path = os.path.join(root, new_filename)

                print(f"'{file}'를 '{new_filename}'으로 성공적으로 이름 변경했습니다.")
                os.rename(old_path, new_path)
                
rename_tga_meta_to_png_meta('/mnt/Workspace/temp/PolygonNatureBiomes/Textures')


import os
from PIL import Image

def convert_tga_to_png_and_resize(source_folder):
    for root, _, files in os.walk(source_folder):
        for file in files:
            if file.lower().endswith('.tga'):
                tga_path = os.path.join(root, file)
                png_filename = os.path.splitext(file)[0] + '.png'
                png_path = os.path.join(root, png_filename)

                with Image.open(tga_path) as img:
                    width, height = img.size
                    new_width, new_height = width, height

                    if width >= 2048 or height >= 2048:
                        new_width //= 4
                        new_height //= 4
                    elif width >= 1024 or height >= 1024:
                        new_width //= 2
                        new_height //= 2

                    if new_width != width or new_height != height:
                        img = img.resize((new_width, new_height), Image.Resampling.LANCZOS) # LANCZOS 필터는 고품질 축소에 적합

                    # RGBA 모드로 변환하여 투명도 유지 (TGA는 투명도를 가질 수 있음)
                    if img.mode != 'RGBA':
                        img = img.convert('RGBA')

                    img.save(png_path)
                    os.remove(tga_path)
                    print(f'save: {png_path}')

convert_tga_to_png_and_resize('/mnt/Workspace/temp/PolygonNatureBiomes/Textures')
